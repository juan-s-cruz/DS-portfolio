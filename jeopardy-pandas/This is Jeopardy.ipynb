{
 "cells": [
  {
   "cell_type": "markdown",
   "metadata": {},
   "source": [
    "# This is Jeopardy!"
   ]
  },
  {
   "cell_type": "markdown",
   "metadata": {},
   "source": [
    "#### Overview"
   ]
  },
  {
   "cell_type": "markdown",
   "metadata": {},
   "source": [
    "This project is slightly different than others you have encountered thus far. Instead of a step-by-step tutorial, this project contains a series of open-ended requirements which describe the project you'll be building. There are many possible ways to correctly fulfill all of these requirements, and you should expect to use the internet, Codecademy, and/or other resources when you encounter a problem that you cannot easily solve."
   ]
  },
  {
   "cell_type": "markdown",
   "metadata": {},
   "source": [
    "#### Project Goals"
   ]
  },
  {
   "cell_type": "markdown",
   "metadata": {},
   "source": [
    "You will work to write several functions that investigate a dataset of _Jeopardy!_ questions and answers. Filter the dataset for topics that you're interested in, compute the average difficulty of those questions, and train to become the next Jeopardy champion!"
   ]
  },
  {
   "cell_type": "markdown",
   "metadata": {},
   "source": [
    "## Prerequisites"
   ]
  },
  {
   "cell_type": "markdown",
   "metadata": {},
   "source": [
    "In order to complete this project, you should have completed the Pandas lessons in the <a href=\"https://www.codecademy.com/learn/paths/analyze-data-with-python\">Analyze Data with Python Skill Path</a>. You can also find those lessons in the <a href=\"https://www.codecademy.com/learn/data-processing-pandas\">Data Analysis with Pandas course</a> or the <a href=\"https://www.codecademy.com/learn/paths/data-science/\">Data Scientist Career Path</a>.\n",
    "\n",
    "Finally, the <a href=\"https://www.codecademy.com/learn/practical-data-cleaning\">Practical Data Cleaning</a> course may also be helpful."
   ]
  },
  {
   "cell_type": "markdown",
   "metadata": {},
   "source": [
    "## Project Requirements"
   ]
  },
  {
   "cell_type": "markdown",
   "metadata": {},
   "source": [
    "1. We've provided a csv file containing data about the game show _Jeopardy!_ in a file named `jeopardy.csv`. Load the data into a DataFrame and investigate its contents. Try to print out specific columns.\n",
    "\n",
    "   Note that in order to make this project as \"real-world\" as possible, we haven't modified the data at all - we're giving it to you exactly how we found it. As a result, this data isn't as \"clean\" as the datasets you normally find on Codecademy. More specifically, there's something odd about the column names. After you figure out the problem with the column names, you may want to rename them to make your life easier for the rest of the project.\n",
    "   \n",
    "   In order to display the full contents of a column, we've added this line of code for you:\n",
    "   \n",
    "   ```py\n",
    "   pd.set_option('display.max_colwidth', None)\n",
    "   ```"
   ]
  },
  {
   "cell_type": "code",
   "execution_count": 1,
   "metadata": {},
   "outputs": [
    {
     "name": "stderr",
     "output_type": "stream",
     "text": [
      "<ipython-input-1-019cabeb8daf>:2: FutureWarning: Passing a negative integer is deprecated in version 1.0 and will not be supported in future version. Instead, use None to not limit the column width.\n",
      "  pd.set_option('display.max_colwidth', -1)\n"
     ]
    },
    {
     "name": "stdout",
     "output_type": "stream",
     "text": [
      "Index(['Show Number', ' Air Date', ' Round', ' Category', ' Value',\n",
      "       ' Question', ' Answer'],\n",
      "      dtype='object')\n",
      "   show_number    air_date  jeo_round                         category value  \\\n",
      "0  4680         2004-12-31  Jeopardy!  HISTORY                          $200   \n",
      "1  4680         2004-12-31  Jeopardy!  ESPN's TOP 10 ALL-TIME ATHLETES  $200   \n",
      "2  4680         2004-12-31  Jeopardy!  EVERYBODY TALKS ABOUT IT...      $200   \n",
      "3  4680         2004-12-31  Jeopardy!  THE COMPANY LINE                 $200   \n",
      "4  4680         2004-12-31  Jeopardy!  EPITAPHS & TRIBUTES              $200   \n",
      "\n",
      "                                                                                                      question  \\\n",
      "0  For the last 8 years of his life, Galileo was under house arrest for espousing this man's theory              \n",
      "1  No. 2: 1912 Olympian; football star at Carlisle Indian School; 6 MLB seasons with the Reds, Giants & Braves   \n",
      "2  The city of Yuma in this state has a record average of 4,055 hours of sunshine each year                      \n",
      "3  In 1963, live on \"The Art Linkletter Show\", this company served its billionth burger                          \n",
      "4  Signer of the Dec. of Indep., framer of the Constitution of Mass., second President of the United States      \n",
      "\n",
      "       answer  \n",
      "0  Copernicus  \n",
      "1  Jim Thorpe  \n",
      "2  Arizona     \n",
      "3  McDonald's  \n",
      "4  John Adams  \n"
     ]
    }
   ],
   "source": [
    "import pandas as pd\n",
    "pd.set_option('display.max_colwidth', -1)\n",
    "\n",
    "jeopardy = pd.read_csv(\"jeopardy.csv\")\n",
    "\n",
    "print(jeopardy.columns)\n",
    "jeopardy.rename(columns={'Show Number':'show_number',' Air Date': 'air_date', ' Round': 'jeo_round', ' Category': 'category', ' Value': 'value', ' Question': 'question', ' Answer': 'answer'},inplace=True)\n",
    "print(jeopardy.head())\n",
    "\n"
   ]
  },
  {
   "attachments": {},
   "cell_type": "markdown",
   "metadata": {},
   "source": [
    "2. Write a function that filters the dataset for questions that contain all of the words in a list of words. For example, when the list `[\"King\", \"England\"]` was passed to our function, the function returned a DataFrame of 49 rows. Every row had the strings `\"King\"` and `\"England\"` somewhere in its `\" Question\"`.\n",
    "\n",
    "   Test your function by printing out the column containing the question of each row of the dataset."
   ]
  },
  {
   "cell_type": "code",
   "execution_count": 2,
   "metadata": {},
   "outputs": [
    {
     "name": "stdout",
     "output_type": "stream",
     "text": [
      "       show_number    air_date         jeo_round               category  \\\n",
      "4953   3003         1997-09-24  Double Jeopardy!  \"PH\"UN WORDS            \n",
      "6337   3517         1999-12-14  Double Jeopardy!  Y1K                     \n",
      "9191   3907         2001-09-04  Double Jeopardy!  WON THE BATTLE          \n",
      "11710  2903         1997-03-26  Double Jeopardy!  BRITISH MONARCHS        \n",
      "13454  4726         2005-03-07  Jeopardy!         A NUMBER FROM 1 TO 10   \n",
      "\n",
      "       value  \\\n",
      "4953   $200    \n",
      "6337   $800    \n",
      "9191   $800    \n",
      "11710  $600    \n",
      "13454  $1000   \n",
      "\n",
      "                                                                                                     question  \\\n",
      "4953   Both England's King George V & FDR put their stamp of approval on this \"King of Hobbies\"                 \n",
      "6337   In retaliation for Viking raids, this \"Unready\" king of England attacks Norse areas of the Isle of Man   \n",
      "9191   This king of England beat the odds to trounce the French in the 1415 Battle of Agincourt                 \n",
      "11710  This Scotsman, the first Stuart king of England, was called \"The Wisest Fool in Christendom\"             \n",
      "13454  It's the number that followed the last king of England named William                                     \n",
      "\n",
      "                             answer  \n",
      "4953   Philately (stamp collecting)  \n",
      "6337   Ethelred                      \n",
      "9191   Henry V                       \n",
      "11710  James I                       \n",
      "13454  4                             \n"
     ]
    }
   ],
   "source": [
    "def word_filter(word_list, fil_category, jeo_df):\n",
    "    if len(word_list) > 0 :\n",
    "        cured_list = [' '+word for word in word_list]\n",
    "        filtered_df = jeo_df[(jeo_df[fil_category].str.lower()).str.contains(cured_list[-1].lower())]\n",
    "        word_list.pop()\n",
    "        return word_filter(word_list, fil_category, filtered_df)\n",
    "    else:\n",
    "        return jeo_df\n",
    "\n",
    "filtered_questions = word_filter([\"England\",\"King\"], 'question', jeopardy)\n",
    "print(filtered_questions.head())"
   ]
  },
  {
   "cell_type": "markdown",
   "metadata": {},
   "source": [
    "3. Test your original function with a few different sets of words to try to find some ways your function breaks. Edit your function so it is more robust.\n",
    "\n",
    "   For example, think about capitalization. We probably want to find questions that contain the word `\"King\"` or `\"king\"`.\n",
    "   \n",
    "   You may also want to check to make sure you don't find rows that contain substrings of your given words. For example, our function found a question that didn't contain the word `\"king\"`, however it did contain the word `\"viking\"` &mdash; it found the `\"king\"` inside `\"viking\"`. Note that this also comes with some drawbacks &mdash; you would no longer find questions that contained words like `\"England's\"`."
   ]
  },
  {
   "cell_type": "markdown",
   "metadata": {},
   "source": [
    "4. We may want to eventually compute aggregate statistics, like `.mean()` on the `\" Value\"` column. But right now, the values in that column are strings. Convert the`\" Value\"` column to floats. If you'd like to, you can create a new column with float values.\n",
    "\n",
    "   Now that you can filter the dataset of question, use your new column that contains the float values of each question to find the \"difficulty\" of certain topics. For example, what is the average value of questions that contain the word `\"King\"`?\n",
    "   \n",
    "   Make sure to use the dataset that contains the float values as the dataset you use in your filtering function."
   ]
  },
  {
   "cell_type": "code",
   "execution_count": 3,
   "metadata": {},
   "outputs": [
    {
     "name": "stdout",
     "output_type": "stream",
     "text": [
      "739.9884755451067\n",
      "639.8226925461519\n"
     ]
    }
   ],
   "source": [
    "jeopardy['value_float'] = jeopardy.value.apply(lambda x: float(x.replace('$','').replace(',','')) if x != 'None' else 0)\n",
    "print(jeopardy['value_float'].mean())\n",
    "print(jeopardy['value_float'].std())"
   ]
  },
  {
   "cell_type": "markdown",
   "metadata": {},
   "source": [
    "5. Write a function that returns the count of unique answers to all of the questions in a dataset. For example, after filtering the entire dataset to only questions containing the word `\"King\"`, we could then find all of the unique answers to those questions. The answer \"Henry VIII\" appeared 55 times and was the most common answer."
   ]
  },
  {
   "cell_type": "code",
   "execution_count": 5,
   "metadata": {},
   "outputs": [
    {
     "name": "stdout",
     "output_type": "stream",
     "text": [
      "1625\n",
      "2\n"
     ]
    }
   ],
   "source": [
    "unique_answers = word_filter([\"King\"],'question',jeopardy).answer.nunique()\n",
    "print(unique_answers)\n",
    "\n",
    "test = jeopardy[(jeopardy.answer == \"Henry VIII\") & (jeopardy.question.str.contains(\"King\"))]\n",
    "print(test.answer.count())"
   ]
  },
  {
   "cell_type": "markdown",
   "metadata": {},
   "source": [
    "6. Explore from here! This is an incredibly rich dataset, and there are so many interesting things to discover. There are a few columns that we haven't even started looking at yet. Here are some ideas on ways to continue working with this data:\n",
    "\n",
    " * Investigate the ways in which questions change over time by filtering by the date. How many questions from the 90s use the word `\"Computer\"` compared to questions from the 2000s?\n",
    " * Is there a connection between the round and the category? Are you more likely to find certain categories, like `\"Literature\"` in Single Jeopardy or Double Jeopardy?\n",
    " * Build a system to quiz yourself. Grab random questions, and use the <a href=\"https://docs.python.org/3/library/functions.html#input\">input</a> function to get a response from the user. Check to see if that response was right or wrong."
   ]
  },
  {
   "cell_type": "code",
   "execution_count": 6,
   "metadata": {},
   "outputs": [
    {
     "name": "stdout",
     "output_type": "stream",
     "text": [
      "The first Jeopardy show aired on 1984-09-10 00:00:00\n",
      "8108\n",
      "208822\n",
      "The mean value of the questions has increased in time, before 1990, the mean was 464, afterwards, it has increased by about 300 dollars to: 751.\n",
      "Total number of questions in a Jeopardy! round of Jeopardy: 107384\n",
      "Total number of questions in a Double Jeopardy! round of Jeopardy: 105912\n",
      "Total number of questions in a Final Jeopardy! round of Jeopardy: 3631\n",
      "Total number of questions in a Tiebreaker round of Jeopardy: 3\n",
      "Number of unique question catgories in a Jeopardy! round of Jeopardy: 15155\n",
      "Number of unique question catgories in a Double Jeopardy! round of Jeopardy: 14576\n",
      "Number of unique question catgories in a Final Jeopardy! round of Jeopardy: 1952\n",
      "Number of unique question catgories in a Tiebreaker round of Jeopardy: 3\n"
     ]
    }
   ],
   "source": [
    "import datetime\n",
    "jeopardy['air_date'] = pd.to_datetime(jeopardy['air_date'])\n",
    "ques_before_90 = jeopardy[jeopardy.air_date < pd.to_datetime(datetime.date(1990,1,1))]\n",
    "ques_after_90  = jeopardy[jeopardy.air_date >= pd.to_datetime(datetime.date(1990,1,1))]\n",
    "\n",
    "print('The first Jeopardy show aired on ' + str(ques_before_90.air_date.min()))\n",
    "print(ques_before_90.question.count())\n",
    "print(ques_after_90.question.count())\n",
    "\n",
    "mean_before_90 = ques_before_90.value_float.mean()\n",
    "mean_after_90 = ques_after_90.value_float.mean()\n",
    "print('The mean value of the questions has increased in time, before 1990, the mean was {:3.0f}, afterwards, it has increased by about 300 dollars to: {:3.0f}.'.format(mean_before_90,mean_after_90))\n",
    "\n",
    "jeo_round_types = jeopardy['jeo_round'].unique()\n",
    "      \n",
    "df_round_jeo = jeopardy[jeopardy.jeo_round == jeo_round_types[0]]\n",
    "print('Total number of questions in a {} round of Jeopardy: '.format(jeo_round_types[0]) + str(df_round_jeo.question.count()))\n",
    "\n",
    "df_round_jeo2 = jeopardy[jeopardy.jeo_round == jeo_round_types[1]]\n",
    "print('Total number of questions in a {} round of Jeopardy: '.format(jeo_round_types[1]) + str(df_round_jeo2.question.count()))\n",
    "\n",
    "df_round_jeo3 = jeopardy[jeopardy.jeo_round == jeo_round_types[2]]\n",
    "print('Total number of questions in a {} round of Jeopardy: '.format(jeo_round_types[2]) + str(df_round_jeo3.question.count()))\n",
    "\n",
    "df_round_jeo4 = jeopardy[jeopardy.jeo_round == jeo_round_types[3]]\n",
    "print('Total number of questions in a {} round of Jeopardy: '.format(jeo_round_types[3]) + str(df_round_jeo4.question.count()))\n",
    "\n",
    "print('Number of unique question catgories in a {} round of Jeopardy: '.format(jeo_round_types[0]) + str(len(sorted(df_round_jeo.category.unique()))))\n",
    "print('Number of unique question catgories in a {} round of Jeopardy: '.format(jeo_round_types[1]) + str(len(sorted(df_round_jeo2.category.unique()))))\n",
    "print('Number of unique question catgories in a {} round of Jeopardy: '.format(jeo_round_types[2]) + str(len(sorted(df_round_jeo3.category.unique()))))\n",
    "print('Number of unique question catgories in a {} round of Jeopardy: '.format(jeo_round_types[3]) + str(len(sorted(df_round_jeo4.category.unique()))))\n"
   ]
  },
  {
   "cell_type": "code",
   "execution_count": 163,
   "metadata": {},
   "outputs": [
    {
     "name": "stdout",
     "output_type": "stream",
     "text": [
      "0.3%\n",
      "0.6%\n",
      "1.9%\n",
      "0.0%\n"
     ]
    }
   ],
   "source": [
    "df_round_jeo_filtered = word_filter([\"Literature\"], 'category', df_round_jeo)\n",
    "df_round_jeo2_filtered = word_filter([\"Literature\"], 'category', df_round_jeo2)\n",
    "df_round_jeo3_filtered = word_filter([\"Literature\"], 'category', df_round_jeo3)\n",
    "df_round_jeo4_filtered = word_filter([\"Literature\"], 'category', df_round_jeo4)\n",
    "print('{:2.1f}%'.format(df_round_jeo_filtered.question.count()*100/float(df_round_jeo.question.count())))\n",
    "print('{:2.1f}%'.format(df_round_jeo2_filtered.question.count()*100/float(df_round_jeo2.question.count())))\n",
    "print('{:2.1f}%'.format(df_round_jeo3_filtered.question.count()*100/float(df_round_jeo3.question.count())))\n",
    "print('{:2.1f}%'.format(df_round_jeo4_filtered.question.count()*100/float(df_round_jeo4.question.count())))"
   ]
  },
  {
   "attachments": {},
   "cell_type": "markdown",
   "metadata": {},
   "source": [
    "## Exploration"
   ]
  },
  {
   "attachments": {},
   "cell_type": "markdown",
   "metadata": {},
   "source": [
    "We want to create simplified categories to provide a more robust statistic and understand their distrribution. \n",
    "We will categorize questions according to a reduced set of keywords they may contain. In this way we can focus the whole range of categories into a few major ones.\n",
    "Each question will be assigned a single category according to how many keywords they contain. If there is a tie they will be assigned as 'other'. "
   ]
  },
  {
   "cell_type": "code",
   "execution_count": 134,
   "metadata": {},
   "outputs": [
    {
     "data": {
      "text/plain": [
       "['literature', 'sports', 'music', 'geography', 'science', 'history', 'other']"
      ]
     },
     "execution_count": 134,
     "metadata": {},
     "output_type": "execute_result"
    }
   ],
   "source": [
    "literature_kws = ['book','author','write','novel','poem','literature','published']\n",
    "sports_kws = ['sport','championship','football','won','baseball','player', 'basketball', 'golf', 'chess', 'volleyball', 'cricket', 'swim']\n",
    "music_kws = ['singer',' CD', 'song', ' LP', 'concert','music','instrument','Billboard', 'composer', 'orchestra']\n",
    "geography_kws = ['geography','city','country', 'state', 'capital', 'river', 'mountain','earth','founded','island',' lake ', 'desert']\n",
    "science_kws = ['science','scientist','chemis', 'physic', 'biolog', 'discover', 'Nobel','experiment','invent','develop']\n",
    "history_kws = ['year','century','rule','king','empire','tribe','war','battle','ship','president','decade','colony','senator','congress']\n",
    "other_kws = []\n",
    "\n",
    "new_categories = {'literature':literature_kws,'sports':sports_kws,'music':music_kws,'geography':geography_kws,'science':science_kws,'history':history_kws,'other':other_kws}\n",
    "\n",
    "list(new_categories.keys())"
   ]
  },
  {
   "cell_type": "code",
   "execution_count": 135,
   "metadata": {},
   "outputs": [],
   "source": [
    "def find_unique_max(score):\n",
    "    naive_max = max(score)\n",
    "    red_list = score[:]\n",
    "    red_list.remove(naive_max)\n",
    "    next_max = max(red_list)\n",
    "    if naive_max == next_max:\n",
    "        return -1\n",
    "    else:\n",
    "        return score.index(naive_max)\n",
    "        \n",
    "    \n",
    "def find_category(question_str, category_dict):\n",
    "    score = [0 for i in range(len(category_dict))]\n",
    "    categories = list(category_dict.keys())\n",
    "    for j in range(len(categories)):\n",
    "        word_list = category_dict[categories[j]]\n",
    "        for word in word_list:\n",
    "            if word.lower() in question_str.lower():\n",
    "                score[j] += 1\n",
    "    if max(score) == 0 :\n",
    "        return 'other'\n",
    "    else:\n",
    "        index_max = find_unique_max(score)\n",
    "        return categories[index_max]\n",
    "\n",
    "# test_ques = find_category(\"Who won the football world country city in 1998?\", new_categories)\n",
    "# print(test_ques)\n"
   ]
  },
  {
   "cell_type": "code",
   "execution_count": 136,
   "metadata": {},
   "outputs": [],
   "source": [
    "jeopardy['new_category'] = jeopardy.question.apply(lambda x: find_category(x,new_categories))"
   ]
  },
  {
   "cell_type": "code",
   "execution_count": 182,
   "metadata": {},
   "outputs": [
    {
     "name": "stdout",
     "output_type": "stream",
     "text": [
      "['history' 'sports' 'geography' 'other' 'literature' 'music' 'science']\n",
      "  new_category  question  cat_fraction\n",
      "0  geography    23372     10.773982   \n",
      "1  history      22474     10.360024   \n",
      "2  literature   8561      3.946434    \n",
      "3  music        6204      2.859909    \n",
      "4  other        147919    68.187434   \n",
      "5  science      3309      1.525377    \n",
      "6  sports       5091      2.346840    \n"
     ]
    }
   ],
   "source": [
    "print(jeopardy.new_category.unique())\n",
    "\n",
    "jeopardy_new_cats = jeopardy.groupby(['new_category']).question.count().reset_index()\n",
    "\n",
    "# print(jeopardy_new_cats.new_category.head())\n",
    "jeopardy_new_cats['cat_fraction'] = jeopardy_new_cats.question*100/float(jeopardy_new_cats.question.sum())\n",
    "\n",
    "\n",
    "print(jeopardy_new_cats)\n"
   ]
  }
 ],
 "metadata": {
  "kernelspec": {
   "display_name": "Python 3 (ipykernel)",
   "language": "python",
   "name": "python3"
  },
  "language_info": {
   "codemirror_mode": {
    "name": "ipython",
    "version": 3
   },
   "file_extension": ".py",
   "mimetype": "text/x-python",
   "name": "python",
   "nbconvert_exporter": "python",
   "pygments_lexer": "ipython3",
   "version": "3.8.3"
  }
 },
 "nbformat": 4,
 "nbformat_minor": 2
}
