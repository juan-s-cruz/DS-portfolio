{
 "cells": [
  {
   "cell_type": "markdown",
   "metadata": {},
   "source": [
    "# U.S. Medical Insurance Costs"
   ]
  },
  {
   "cell_type": "markdown",
   "metadata": {},
   "source": [
    "## Scope\n",
    "\n",
    "In this project we want to find the distribution of BMI when separated by sex, explicitly find its mean and standard deviation.\n",
    "\n",
    "Later extensions might include studying BMI average per age group."
   ]
  },
  {
   "cell_type": "markdown",
   "metadata": {},
   "source": [
    "### Loading the data"
   ]
  },
  {
   "cell_type": "code",
   "execution_count": 13,
   "metadata": {},
   "outputs": [],
   "source": [
    "import csv\n",
    "import matplotlib as mpl\n",
    "import matplotlib.pyplot as plt\n",
    "import numpy as np        "
   ]
  },
  {
   "cell_type": "code",
   "execution_count": 14,
   "metadata": {},
   "outputs": [],
   "source": [
    "with open(\"insurance.csv\") as data:\n",
    "    id = 0\n",
    "    data_dict = {}\n",
    "    for row in csv.DictReader(data):\n",
    "        data_dict[id] = row\n",
    "        id += 1"
   ]
  },
  {
   "cell_type": "markdown",
   "metadata": {},
   "source": [
    "### Extracting relevant data\n",
    "We first want to create a list of BMIs for Male and Female patients and understand their range"
   ]
  },
  {
   "cell_type": "code",
   "execution_count": 19,
   "metadata": {},
   "outputs": [
    {
     "name": "stdout",
     "output_type": "stream",
     "text": [
      "662\n",
      "676\n"
     ]
    }
   ],
   "source": [
    "bmi_women = []\n",
    "bmi_men = []\n",
    "\n",
    "for patient in data_dict.values():\n",
    "    if patient['sex'] == 'female':\n",
    "        bmi_women.append(float(patient['bmi']))\n",
    "    else:\n",
    "        bmi_men.append(float(patient[\"bmi\"]))\n",
    "\n",
    "#The sample seems to be fair in terms of sexes, almost equal amount of both male and female patients exist.\n",
    "print(len(bmi_women))\n",
    "print(len(bmi_men))"
   ]
  },
  {
   "cell_type": "code",
   "execution_count": 22,
   "metadata": {},
   "outputs": [],
   "source": [
    "def find_max(some_list):\n",
    "    best = 0\n",
    "    for num in some_list:\n",
    "        if num > best:\n",
    "            best = num\n",
    "    return best\n",
    "\n",
    "def find_min(some_list):\n",
    "    best = float('inf')\n",
    "    for num in some_list:\n",
    "        if num < best:\n",
    "            best = num\n",
    "    return best"
   ]
  },
  {
   "cell_type": "code",
   "execution_count": 27,
   "metadata": {},
   "outputs": [
    {
     "name": "stdout",
     "output_type": "stream",
     "text": [
      "(15.96,53.13)\n"
     ]
    }
   ],
   "source": [
    "men_bmi_max = find_max(bmi_men)\n",
    "men_bmi_min = find_min(bmi_men)\n",
    "print(\"({},{})\".format(men_bmi_min,men_bmi_max))"
   ]
  },
  {
   "cell_type": "code",
   "execution_count": 28,
   "metadata": {},
   "outputs": [
    {
     "name": "stdout",
     "output_type": "stream",
     "text": [
      "(16.815,48.07)\n"
     ]
    }
   ],
   "source": [
    "women_bmi_max = find_max(bmi_women)\n",
    "women_bmi_min = find_min(bmi_women)\n",
    "print(\"({},{})\".format(women_bmi_min,women_bmi_max))"
   ]
  },
  {
   "cell_type": "markdown",
   "metadata": {},
   "source": [
    "We try initially with 12 bins, but leave it as a parameter so we can adjust it later"
   ]
  },
  {
   "cell_type": "code",
   "execution_count": 250,
   "metadata": {},
   "outputs": [
    {
     "name": "stdout",
     "output_type": "stream",
     "text": [
      "15\n"
     ]
    }
   ],
   "source": [
    "n_bins = 14\n",
    "\n",
    "men_step = (men_bmi_max - men_bmi_min)/(n_bins)\n",
    "women_step = (women_bmi_max - women_bmi_min)/(n_bins)\n",
    "\n",
    "# We make sure the lowest values fall in the first been \n",
    "men_bins = [(men_bmi_min-men_step/3)+men_step*(i+1) for i in range(n_bins+1)]\n",
    "women_bins = [(women_bmi_min-women_step/3)+women_step*(i+1) for i in range(n_bins+1)]\n",
    "print(len(men_bins))"
   ]
  },
  {
   "cell_type": "code",
   "execution_count": 251,
   "metadata": {},
   "outputs": [],
   "source": [
    "# Returns a dictionary with key value the upper bound of the bin\n",
    "def to_bins(some_list, bins):\n",
    "    binned_data_dict = {}\n",
    "    for bin in bins[1:]:\n",
    "        binned_data_dict[bin] = []\n",
    "    for num in some_list:\n",
    "        for key in binned_data_dict.keys():\n",
    "            if num <= key:\n",
    "                binned_data_dict[key].append(num)\n",
    "                break      \n",
    "        \n",
    "    return binned_data_dict"
   ]
  },
  {
   "cell_type": "code",
   "execution_count": 252,
   "metadata": {},
   "outputs": [],
   "source": [
    "binned_data_men = to_bins(bmi_men, men_bins)\n",
    "binned_data_women = to_bins(bmi_women, women_bins)"
   ]
  },
  {
   "cell_type": "markdown",
   "metadata": {},
   "source": [
    "Now we can plot the sizes of the bins to get a visual respresentation of the distributions."
   ]
  },
  {
   "cell_type": "code",
   "execution_count": 253,
   "metadata": {},
   "outputs": [],
   "source": [
    "men_xs = [\"{:.1f}\".format((bin + bin-men_step)/2) for bin in men_bins[1:]]\n",
    "women_xs = [\"{:.1f}\".format((bin + bin-women_step)/2) for bin in women_bins[1:]]\n",
    "men_values = [len(binned_data_men[bin]) for bin in binned_data_men.keys()]\n",
    "women_values = [len(binned_data_women[bin]) for bin in binned_data_women.keys()]\n",
    "\n",
    "# We add the recommended range of 18.5 to 24.9\n",
    "def find_bin_index(some_bins):\n",
    "    index_lower = 0\n",
    "    index_upper = float('inf')\n",
    "    for i in range(len(some_bins)-1):\n",
    "        if 18.5 <= some_bins[i+1]:\n",
    "            index_lower = i\n",
    "            break\n",
    "    for i in range(len(some_bins)-1):\n",
    "        if 24.9 <= some_bins[i+1]:\n",
    "            index_upper = i\n",
    "            break\n",
    "    return index_lower, index_upper\n",
    "        \n",
    "index_lower_men, index_upper_men = find_bin_index(men_bins)\n",
    "index_lower_women, index_upper_women = find_bin_index(women_bins)\n",
    "\n"
   ]
  },
  {
   "cell_type": "code",
   "execution_count": 254,
   "metadata": {},
   "outputs": [
    {
     "data": {
      "image/png": "[encoded data removed]",
      "text/plain": [
       "<Figure size 1296x288 with 2 Axes>"
      ]
     },
     "metadata": {
      "needs_background": "light"
     },
     "output_type": "display_data"
    }
   ],
   "source": [
    "# Plotting commands\n",
    "fig, axs = plt.subplots(1,2,figsize=(18, 4))\n",
    "\n",
    "axs[0].bar(men_xs, men_values, width=1)\n",
    "plt.sca(axs[0])\n",
    "plt.vlines(index_lower_men,0,145,color='r')\n",
    "plt.vlines(index_upper_men,0,145,color='r')\n",
    "plt.xticks(rotation='65')\n",
    "plt.gca().set_title(\"U.S. Men's BMI distribution\")\n",
    "axs[1].bar(women_xs, women_values, width=1)\n",
    "plt.sca(axs[1])\n",
    "plt.vlines(index_lower_men,0,145,color='r')\n",
    "plt.vlines(index_upper_men,0,145,color='r')\n",
    "plt.xticks(rotation='65')\n",
    "plt.gca().set_title(\"U.S. Women's BMI distribution\")\n",
    "plt.show()"
   ]
  },
  {
   "cell_type": "code",
   "execution_count": 283,
   "metadata": {},
   "outputs": [
    {
     "name": "stdout",
     "output_type": "stream",
     "text": [
      "The average BMI value for men in the data is 30.9 with a std. deviation of 6.1\n",
      "The average BMI value for women in the data is 30.4 with a std. deviation of 6.0\n"
     ]
    }
   ],
   "source": [
    "def compute_total(some_list):\n",
    "    total = 0\n",
    "    for num in some_list:\n",
    "        total += num\n",
    "    return total\n",
    "\n",
    "def compute_av(some_list):\n",
    "    if len(some_list) != 0:\n",
    "        return compute_total(some_list)/len(some_list)\n",
    "    else:\n",
    "        return 0\n",
    "\n",
    "def compute_stdev(average, some_list):\n",
    "    dist_sq = [ (average - num)**2 for num in some_list ]\n",
    "    total_dist_sq = compute_total(dist_sq)\n",
    "    return np.sqrt(total_dist_sq/(len(some_list)-1))\n",
    "\n",
    "\n",
    "average_bmi_men = compute_av(bmi_men)\n",
    "average_bmi_women = compute_av(bmi_women)\n",
    "\n",
    "stdev_bmi_men = compute_stdev(average_bmi_men, bmi_men)\n",
    "stdev_bmi_women = compute_stdev(average_bmi_women, bmi_women)\n",
    "\n",
    "print(\"The average BMI value for men in the data is {:.1f} with a std. deviation of {:.1f}\".format(average_bmi_men, stdev_bmi_men))\n",
    "print(\"The average BMI value for women in the data is {:.1f} with a std. deviation of {:.1f}\".format(average_bmi_women, stdev_bmi_women))\n",
    "\n"
   ]
  },
  {
   "cell_type": "markdown",
   "metadata": {},
   "source": [
    "We can conclude that there are no significant differences among the sexes when it comes to BMI. Both have a similar mean and spread. Both sexes seem to be above the healthy range marked in red in the plots.\n",
    "\n",
    "According to https://www.cdc.gov/healthyweight/assessing/index.html a BMI higher than 30 corresponds to *obese* patients. In the case of the US data provided we can observe roughly half of the population seems to obese. "
   ]
  },
  {
   "cell_type": "markdown",
   "metadata": {},
   "source": [
    "## Extension\n",
    "\n",
    "We now consider binning the BMI per age groups of 5 year gaps. The hypothesis is that BMI increases with age."
   ]
  },
  {
   "cell_type": "code",
   "execution_count": 284,
   "metadata": {},
   "outputs": [
    {
     "name": "stdout",
     "output_type": "stream",
     "text": [
      "(18,64)\n",
      "(15.96,53.13)\n"
     ]
    }
   ],
   "source": [
    "def extract_age_bmi(some_dict):\n",
    "    ages = []\n",
    "    bmis = []\n",
    "    for patient in some_dict.values():\n",
    "        ages.append(int(patient[\"age\"]))\n",
    "        bmis.append(float(patient[\"bmi\"]))\n",
    "    return ages, bmis\n",
    "\n",
    "ages, bmis = extract_age_bmi(data_dict)\n",
    "ages_min = find_min(ages)\n",
    "ages_max = find_max(ages)\n",
    "bmis_min = find_min(bmis)\n",
    "bmis_max = find_max(bmis)\n",
    "print(\"({},{})\".format(ages_min,ages_max))\n",
    "print(\"({},{})\".format(bmis_min,bmis_max))"
   ]
  },
  {
   "cell_type": "code",
   "execution_count": 290,
   "metadata": {},
   "outputs": [
    {
     "name": "stdout",
     "output_type": "stream",
     "text": [
      "[20, 25, 30, 35, 40, 45, 50, 55, 60, 65]\n"
     ]
    }
   ],
   "source": [
    "age_step = 5\n",
    "total_no_bins = int((ages_max - ages_min)/5)\n",
    "\n",
    "# We make sure the lowest values fall in the first been \n",
    "age_bins = [int((ages_min - age_step + 2) + age_step*(i+1)) for i in range(total_no_bins+1)]\n",
    "\n",
    "print(age_bins)"
   ]
  },
  {
   "cell_type": "code",
   "execution_count": 309,
   "metadata": {},
   "outputs": [],
   "source": [
    "def to_bins_cross_field(some_tuple_list, bins):\n",
    "    binned_data_dict = {}\n",
    "    for bin in bins[1:]:\n",
    "        binned_data_dict[bin] = []\n",
    "    for age_bmi_tuple in some_tuple_list:\n",
    "        for key in binned_data_dict.keys():\n",
    "            if age_bmi_tuple[0] <= key:\n",
    "                binned_data_dict[key].append(age_bmi_tuple[1])\n",
    "                break      \n",
    "        \n",
    "    return binned_data_dict\n",
    "\n",
    "binned_data_bmis_age = to_bins_cross_field(age_bmi_tuples, age_bins)\n",
    "\n",
    "bmis_av_perAge = [ compute_av(bmi_age_group) for bmi_age_group in binned_data_bmis_age.values()]\n"
   ]
  },
  {
   "cell_type": "code",
   "execution_count": 310,
   "metadata": {},
   "outputs": [
    {
     "data": {
      "text/plain": [
       "Text(0.5, 1.0, 'BMI vs age')"
      ]
     },
     "execution_count": 310,
     "metadata": {},
     "output_type": "execute_result"
    },
    {
     "data": {
      "image/png": "[encoded data removed]",
      "text/plain": [
       "<Figure size 576x504 with 1 Axes>"
      ]
     },
     "metadata": {
      "needs_background": "light"
     },
     "output_type": "display_data"
    }
   ],
   "source": [
    "age_xs = [\"{:.1f}\".format((bin + bin-age_step)/2) for bin in age_bins[1:]]\n",
    "\n",
    "# Plotting commands\n",
    "fig, ax = plt.subplots(figsize=(8, 7))\n",
    "\n",
    "ax.plot(age_xs, bmis_av_perAge,'o')\n",
    "plt.sca(ax)\n",
    "plt.xticks(rotation='65')\n",
    "plt.gca().set_title(\"BMI vs age\")"
   ]
  },
  {
   "cell_type": "markdown",
   "metadata": {},
   "source": [
    "Visually it seems there is indeed a pattern. A linear positive correlation between age and BMI seems to exist. We can proceed to perform a liner regression"
   ]
  },
  {
   "cell_type": "code",
   "execution_count": 318,
   "metadata": {},
   "outputs": [],
   "source": [
    "#Self implementation of least-squares\n",
    "age_vector = [float(age) for age in age_xs]\n",
    "bmi_vector = bmis_av_perAge\n",
    "\n",
    "def least_sq(data_x, data_y):\n",
    "    sum_of_xs  = 0\n",
    "    sum_of_xs_sqs = 0\n",
    "    total_points = 0\n",
    "    sum_of_ys = 0\n",
    "    sum_correl = 0\n",
    "    for i in range(len(data_x)):\n",
    "        sum_of_xs += data_x[i]\n",
    "        sum_of_ys += data_y[i]\n",
    "        sum_of_xs_sqs += data_x[i]**2\n",
    "        total_points += 1\n",
    "        sum_correl += data_x[i] * data_y[i]\n",
    "        \n",
    "    det = sum_of_xs_sqs*total_points - sum_of_xs**2\n",
    "    \n",
    "    if det != 0:\n",
    "        m = (total_points*sum_correl - sum_of_xs*sum_of_ys)/det\n",
    "        b = (sum_of_xs_sqs*sum_of_ys - sum_of_xs*sum_correl)/det\n",
    "        return m, b\n",
    "    else:\n",
    "        return \"Error\"\n",
    "    \n",
    "m, b = least_sq(age_vector, bmi_vector)\n",
    "\n",
    "fit_ys = [ m*age + b for age in age_vector]\n",
    "    "
   ]
  },
  {
   "cell_type": "code",
   "execution_count": 319,
   "metadata": {},
   "outputs": [
    {
     "data": {
      "text/plain": [
       "Text(0.5, 1.0, 'BMI vs age')"
      ]
     },
     "execution_count": 319,
     "metadata": {},
     "output_type": "execute_result"
    },
    {
     "data": {
      "image/png": "[encoded data removed]",
      "text/plain": [
       "<Figure size 576x504 with 1 Axes>"
      ]
     },
     "metadata": {
      "needs_background": "light"
     },
     "output_type": "display_data"
    }
   ],
   "source": [
    "# Plotting commands\n",
    "fig, ax = plt.subplots(figsize=(8, 7))\n",
    "\n",
    "ax.plot(age_xs, bmis_av_perAge,'o')\n",
    "ax.plot(age_xs, fit_ys)\n",
    "plt.sca(ax)\n",
    "plt.xticks(rotation='65')\n",
    "plt.gca().set_title(\"BMI vs age\")"
   ]
  },
  {
   "cell_type": "code",
   "execution_count": null,
   "metadata": {},
   "outputs": [],
   "source": []
  }
 ],
 "metadata": {
  "kernelspec": {
   "display_name": "Python 3 (ipykernel)",
   "language": "python",
   "name": "python3"
  },
  "language_info": {
   "codemirror_mode": {
    "name": "ipython",
    "version": 3
   },
   "file_extension": ".py",
   "mimetype": "text/x-python",
   "name": "python",
   "nbconvert_exporter": "python",
   "pygments_lexer": "ipython3",
   "version": "3.8.3"
  }
 },
 "nbformat": 4,
 "nbformat_minor": 4
}
